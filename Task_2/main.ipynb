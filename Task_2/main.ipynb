{
 "cells": [
  {
   "cell_type": "markdown",
   "metadata": {},
   "source": [
    "##### Import Necessary Libraries"
   ]
  },
  {
   "cell_type": "code",
   "execution_count": 80,
   "metadata": {},
   "outputs": [],
   "source": [
    "import numpy as np\n",
    "import pandas as pd\n",
    "import matplotlib.pyplot as plt\n",
    "from sklearn.datasets import load_diabetes, load_breast_cancer\n",
    "from sklearn.model_selection import train_test_split\n",
    "from sklearn.preprocessing import StandardScaler\n",
    "from sklearn.metrics import mean_squared_error, accuracy_score\n",
    "from sklearn.linear_model import LinearRegression, LogisticRegression"
   ]
  },
  {
   "cell_type": "markdown",
   "metadata": {},
   "source": [
    "# 1. Load and Explore Diabetes Dataset"
   ]
  },
  {
   "cell_type": "code",
   "execution_count": 81,
   "metadata": {},
   "outputs": [
    {
     "name": "stdout",
     "output_type": "stream",
     "text": [
      "Diabetes Dataset Sample:\n",
      "        age       sex       bmi        bp        s1        s2        s3  \\\n",
      "0  0.038076  0.050680  0.061696  0.021872 -0.044223 -0.034821 -0.043401   \n",
      "1 -0.001882 -0.044642 -0.051474 -0.026328 -0.008449 -0.019163  0.074412   \n",
      "2  0.085299  0.050680  0.044451 -0.005670 -0.045599 -0.034194 -0.032356   \n",
      "3 -0.089063 -0.044642 -0.011595 -0.036656  0.012191  0.024991 -0.036038   \n",
      "4  0.005383 -0.044642 -0.036385  0.021872  0.003935  0.015596  0.008142   \n",
      "\n",
      "         s4        s5        s6  Target  \n",
      "0 -0.002592  0.019907 -0.017646   151.0  \n",
      "1 -0.039493 -0.068332 -0.092204    75.0  \n",
      "2 -0.002592  0.002861 -0.025930   141.0  \n",
      "3  0.034309  0.022688 -0.009362   206.0  \n",
      "4 -0.002592 -0.031988 -0.046641   135.0  \n",
      "\n",
      "Dataset Statistics:\n",
      "                age           sex           bmi            bp            s1  \\\n",
      "count  4.420000e+02  4.420000e+02  4.420000e+02  4.420000e+02  4.420000e+02   \n",
      "mean  -2.511817e-19  1.230790e-17 -2.245564e-16 -4.797570e-17 -1.381499e-17   \n",
      "std    4.761905e-02  4.761905e-02  4.761905e-02  4.761905e-02  4.761905e-02   \n",
      "min   -1.072256e-01 -4.464164e-02 -9.027530e-02 -1.123988e-01 -1.267807e-01   \n",
      "25%   -3.729927e-02 -4.464164e-02 -3.422907e-02 -3.665608e-02 -3.424784e-02   \n",
      "50%    5.383060e-03 -4.464164e-02 -7.283766e-03 -5.670422e-03 -4.320866e-03   \n",
      "75%    3.807591e-02  5.068012e-02  3.124802e-02  3.564379e-02  2.835801e-02   \n",
      "max    1.107267e-01  5.068012e-02  1.705552e-01  1.320436e-01  1.539137e-01   \n",
      "\n",
      "                 s2            s3            s4            s5            s6  \\\n",
      "count  4.420000e+02  4.420000e+02  4.420000e+02  4.420000e+02  4.420000e+02   \n",
      "mean   3.918434e-17 -5.777179e-18 -9.042540e-18  9.293722e-17  1.130318e-17   \n",
      "std    4.761905e-02  4.761905e-02  4.761905e-02  4.761905e-02  4.761905e-02   \n",
      "min   -1.156131e-01 -1.023071e-01 -7.639450e-02 -1.260971e-01 -1.377672e-01   \n",
      "25%   -3.035840e-02 -3.511716e-02 -3.949338e-02 -3.324559e-02 -3.317903e-02   \n",
      "50%   -3.819065e-03 -6.584468e-03 -2.592262e-03 -1.947171e-03 -1.077698e-03   \n",
      "75%    2.984439e-02  2.931150e-02  3.430886e-02  3.243232e-02  2.791705e-02   \n",
      "max    1.987880e-01  1.811791e-01  1.852344e-01  1.335973e-01  1.356118e-01   \n",
      "\n",
      "           Target  \n",
      "count  442.000000  \n",
      "mean   152.133484  \n",
      "std     77.093005  \n",
      "min     25.000000  \n",
      "25%     87.000000  \n",
      "50%    140.500000  \n",
      "75%    211.500000  \n",
      "max    346.000000  \n"
     ]
    }
   ],
   "source": [
    "diabetes = load_diabetes()\n",
    "X, y = diabetes.data, diabetes.target  # Features and target\n",
    "\n",
    "df_diabetes = pd.DataFrame(X, columns=diabetes.feature_names)\n",
    "df_diabetes['Target'] = y\n",
    "\n",
    "print(\"Diabetes Dataset Sample:\")\n",
    "print(df_diabetes.head())\n",
    "print(\"\\nDataset Statistics:\")\n",
    "print(df_diabetes.describe())\n"
   ]
  },
  {
   "cell_type": "markdown",
   "metadata": {},
   "source": [
    "# 2. Define Utility Functions"
   ]
  },
  {
   "cell_type": "code",
   "execution_count": 82,
   "metadata": {},
   "outputs": [],
   "source": [
    "def MSE(y_test,y_pred):\n",
    "    errors = 0\n",
    "    n = len(y_test)\n",
    "    for i in range(n):\n",
    "        errors += (y_test[i] - y_pred[i])**2\n",
    "    return errors/n"
   ]
  },
  {
   "cell_type": "markdown",
   "metadata": {},
   "source": [
    "# 3. Implement Gradient Descent Variants for Regression"
   ]
  },
  {
   "cell_type": "code",
   "execution_count": 83,
   "metadata": {},
   "outputs": [],
   "source": [
    "def BGD(X_train,Y_train , alpha , iter):\n",
    "    w = np.zeros(X_train.shape[1])\n",
    "    b=0\n",
    "    losses = []\n",
    "    for i in range(iter):\n",
    "        y_pred = np.dot(X_train, w) + b\n",
    "        error = y_pred - Y_train\n",
    "        dw = (2 / len(Y_train)) * np.dot(X_train.T, error)  \n",
    "        db = (2 / len(Y_train)) * np.sum(error)\n",
    "        w = w - alpha * dw\n",
    "        b = b - alpha * db\n",
    "        losses.append(MSE(Y_train, y_pred))\n",
    "    return w,b, np.array(losses)"
   ]
  },
  {
   "cell_type": "code",
   "execution_count": 84,
   "metadata": {},
   "outputs": [],
   "source": [
    "def SGD(X_train, Y_train, alpha, iterations):\n",
    "    w = np.zeros(X_train.shape[1])  # Initialize weights\n",
    "    b = 0\n",
    "    losses = []\n",
    "    for epoch in range(iterations):\n",
    "        indices = np.random.permutation(len(X_train))  # Shuffle data\n",
    "        X_train, Y_train = X_train[indices], Y_train[indices]\n",
    "\n",
    "        for i in range(len(X_train)):\n",
    "            xi = X_train[i]\n",
    "            yi = Y_train[i]\n",
    "\n",
    "            y_pred = np.dot(xi, w) + b\n",
    "            error = y_pred - yi\n",
    "\n",
    "            dw = 2 * xi * error\n",
    "            db = 2 * error\n",
    "\n",
    "            w -= alpha * dw\n",
    "            b -= alpha * db\n",
    "        losses.append(MSE(Y_train, np.dot(X_train, w) + b))\n",
    "\n",
    "    return w, b, np.array(losses)"
   ]
  },
  {
   "cell_type": "code",
   "execution_count": 85,
   "metadata": {},
   "outputs": [],
   "source": [
    "def MBGD(X_train, Y_train, alpha, iterations, batch_size):\n",
    "    w = np.zeros(X_train.shape[1])  # Initialize weights\n",
    "    b = 0\n",
    "    losses = []\n",
    "    for epoch in range(iterations):\n",
    "        indices = np.random.permutation(len(X_train))  # Shuffle data\n",
    "        X_train, Y_train = X_train[indices], Y_train[indices]\n",
    "\n",
    "        for i in range(0, len(X_train), batch_size):\n",
    "            x_batch = X_train[i:i + batch_size]\n",
    "            y_batch = Y_train[i:i + batch_size]\n",
    "\n",
    "            y_pred = np.dot(x_batch, w) + b\n",
    "            error = y_pred - y_batch\n",
    "\n",
    "            dw = (2 / batch_size) * np.dot(x_batch.T, error)\n",
    "            db = (2 / batch_size) * np.sum(error)\n",
    "\n",
    "            w -= alpha * dw\n",
    "            b -= alpha * db\n",
    "        losses.append(MSE(Y_train, np.dot(X_train, w) + b))\n",
    "    return w, b, np.array(losses)\n"
   ]
  },
  {
   "cell_type": "markdown",
   "metadata": {},
   "source": [
    "# 4. Train and Evaluate Regression Models"
   ]
  },
  {
   "cell_type": "code",
   "execution_count": 86,
   "metadata": {},
   "outputs": [],
   "source": [
    "\n",
    "X_train, X_test, Y_train, Y_test = train_test_split(X, y, test_size=0.2, random_state=42)\n",
    "scaler = StandardScaler()\n",
    "X_train = scaler.fit_transform(X_train)\n",
    "X_test = scaler.transform(X_test)\n",
    "\n",
    "w_bgd, b_bgd, loss_bgd = BGD(X_train, Y_train, 0.001, 10000)\n",
    "w_sgd, b_sgd, loss_sgd = SGD(X_train, Y_train, 0.001, 10000)\n",
    "w_mbgd, b_mbgd, loss_mbgd = MBGD(X_train, Y_train, 0.001, 10000, 32)"
   ]
  },
  {
   "cell_type": "markdown",
   "metadata": {},
   "source": [
    "#### Plot Loss Convergence"
   ]
  },
  {
   "cell_type": "code",
   "execution_count": 87,
   "metadata": {},
   "outputs": [
    {
     "data": {
      "image/png": "[encoded data removed]",
      "text/plain": [
       "<Figure size 1000x500 with 1 Axes>"
      ]
     },
     "metadata": {},
     "output_type": "display_data"
    }
   ],
   "source": [
    "plt.figure(figsize=(10, 5)) \n",
    "plt.plot(loss_bgd, label='BGD')\n",
    "plt.plot(loss_sgd, label='SGD')\n",
    "plt.plot(loss_mbgd, label='MBGD')\n",
    "plt.xlabel('Iterations')\n",
    "plt.ylabel('MSE Loss')\n",
    "plt.title('Loss Convergence')\n",
    "plt.legend()\n",
    "plt.show()"
   ]
  },
  {
   "cell_type": "code",
   "execution_count": 88,
   "metadata": {},
   "outputs": [
    {
     "name": "stdout",
     "output_type": "stream",
     "text": [
      "BGD MSE: 2885.612700035657\n",
      "SGD MSE: 2883.1823237664794\n",
      "MBGD MSE: 2896.0349056847467\n"
     ]
    }
   ],
   "source": [
    "# Evaluate Models\n",
    "print(\"BGD MSE:\", mean_squared_error(Y_test, np.dot(X_test, w_bgd) + b_bgd))\n",
    "print(\"SGD MSE:\", mean_squared_error(Y_test, np.dot(X_test, w_sgd) + b_sgd))\n",
    "print(\"MBGD MSE:\", mean_squared_error(Y_test, np.dot(X_test, w_mbgd) + b_mbgd))\n"
   ]
  },
  {
   "cell_type": "markdown",
   "metadata": {},
   "source": [
    "# 5. Load and Explore Breast Cancer Dataset"
   ]
  },
  {
   "cell_type": "code",
   "execution_count": 89,
   "metadata": {},
   "outputs": [
    {
     "name": "stdout",
     "output_type": "stream",
     "text": [
      "Breast Cancer Dataset Sample:\n",
      "   mean radius  mean texture  mean perimeter  mean area  mean smoothness  \\\n",
      "0        17.99         10.38          122.80     1001.0          0.11840   \n",
      "1        20.57         17.77          132.90     1326.0          0.08474   \n",
      "2        19.69         21.25          130.00     1203.0          0.10960   \n",
      "3        11.42         20.38           77.58      386.1          0.14250   \n",
      "4        20.29         14.34          135.10     1297.0          0.10030   \n",
      "\n",
      "   mean compactness  mean concavity  mean concave points  mean symmetry  \\\n",
      "0           0.27760          0.3001              0.14710         0.2419   \n",
      "1           0.07864          0.0869              0.07017         0.1812   \n",
      "2           0.15990          0.1974              0.12790         0.2069   \n",
      "3           0.28390          0.2414              0.10520         0.2597   \n",
      "4           0.13280          0.1980              0.10430         0.1809   \n",
      "\n",
      "   mean fractal dimension  ...  worst texture  worst perimeter  worst area  \\\n",
      "0                 0.07871  ...          17.33           184.60      2019.0   \n",
      "1                 0.05667  ...          23.41           158.80      1956.0   \n",
      "2                 0.05999  ...          25.53           152.50      1709.0   \n",
      "3                 0.09744  ...          26.50            98.87       567.7   \n",
      "4                 0.05883  ...          16.67           152.20      1575.0   \n",
      "\n",
      "   worst smoothness  worst compactness  worst concavity  worst concave points  \\\n",
      "0            0.1622             0.6656           0.7119                0.2654   \n",
      "1            0.1238             0.1866           0.2416                0.1860   \n",
      "2            0.1444             0.4245           0.4504                0.2430   \n",
      "3            0.2098             0.8663           0.6869                0.2575   \n",
      "4            0.1374             0.2050           0.4000                0.1625   \n",
      "\n",
      "   worst symmetry  worst fractal dimension  Target  \n",
      "0          0.4601                  0.11890       0  \n",
      "1          0.2750                  0.08902       0  \n",
      "2          0.3613                  0.08758       0  \n",
      "3          0.6638                  0.17300       0  \n",
      "4          0.2364                  0.07678       0  \n",
      "\n",
      "[5 rows x 31 columns]\n"
     ]
    }
   ],
   "source": [
    "data = load_breast_cancer()\n",
    "X, Y = data.data, data.target\n",
    "df_cancer = pd.DataFrame(X, columns=data.feature_names)\n",
    "df_cancer['Target'] = Y\n",
    "\n",
    "print(\"Breast Cancer Dataset Sample:\")\n",
    "print(df_cancer.head())\n"
   ]
  },
  {
   "cell_type": "markdown",
   "metadata": {},
   "source": [
    "# 6. Implement Logistic Regression with Gradient Descent"
   ]
  },
  {
   "cell_type": "code",
   "execution_count": 90,
   "metadata": {},
   "outputs": [],
   "source": [
    "def sigmoid(z):\n",
    "    return 1 / (1 + np.exp(-z))"
   ]
  },
  {
   "cell_type": "code",
   "execution_count": 91,
   "metadata": {},
   "outputs": [],
   "source": [
    "def cost_fun(X,Y,w,b):\n",
    "    m = len(Y)\n",
    "    y_hat = sigmoid(np.dot(X,w)+b)\n",
    "    cost = -(1/m) * np.sum(Y * np.log(y_hat) + (1 - Y) * np.log(1 - y_hat))\n",
    "    return cost"
   ]
  },
  {
   "cell_type": "code",
   "execution_count": 92,
   "metadata": {},
   "outputs": [],
   "source": [
    "def compute_gradient(X,Y,w,b):\n",
    "    m = len(Y)\n",
    "    y_hat= sigmoid(np.dot(X,w) + b)\n",
    "    dw = (1/m) * np.dot(X.T, (y_hat - Y))\n",
    "    db = (1/m) * np.sum(y_hat - Y)\n",
    "    return dw, db"
   ]
  },
  {
   "cell_type": "code",
   "execution_count": 93,
   "metadata": {},
   "outputs": [],
   "source": [
    "def BGD(X,Y,alpha,iter):\n",
    "    w = np.zeros(X.shape[1])\n",
    "    b=0\n",
    "    losses = []\n",
    "    for i in range(iter):\n",
    "        dw,db = compute_gradient(X,Y,w,b)\n",
    "        w = w - alpha * dw\n",
    "        b = b - alpha * db\n",
    "        losses.append(cost_fun(X, Y, w, b))\n",
    "    return w,b,np.array(losses)  "
   ]
  },
  {
   "cell_type": "code",
   "execution_count": 94,
   "metadata": {},
   "outputs": [],
   "source": [
    "def SGD(X,Y,alpha,iter):\n",
    "    m,n = X.shape\n",
    "    w = np.zeros(n)\n",
    "    b=0\n",
    "    losses = []\n",
    "    for i in range(iter):\n",
    "        indices = np.random.permutation(m)\n",
    "        X,Y = X[indices],Y[indices]\n",
    "        for j in range(m):\n",
    "            xi = X[j]\n",
    "            yi = Y[j]\n",
    "            y_hat = sigmoid(np.dot(xi,w)+b)\n",
    "            error = y_hat-yi\n",
    "            w -= alpha * error * xi\n",
    "            b -= alpha * error\n",
    "        losses.append(cost_fun(X,Y,w,b))    \n",
    "    return w,b,np.array(losses)"
   ]
  },
  {
   "cell_type": "code",
   "execution_count": 95,
   "metadata": {},
   "outputs": [],
   "source": [
    "def MBGD(X, y, alpha, epochs, batch_size):\n",
    "    m, n = X.shape\n",
    "    w = np.zeros(n)\n",
    "    b = 0\n",
    "    losses = []\n",
    "    for epoch in range(epochs):\n",
    "        indices = np.random.permutation(m)\n",
    "        X, y = X[indices], y[indices]\n",
    "\n",
    "        for i in range(0, m, batch_size):\n",
    "            X_batch = X[i:i+batch_size]\n",
    "            y_batch = y[i:i+batch_size]\n",
    "\n",
    "            y_hat = sigmoid(np.dot(X_batch, w) + b)\n",
    "            error = y_hat - y_batch\n",
    "\n",
    "            w -= alpha * np.dot(X_batch.T, error) / batch_size\n",
    "            b -= alpha * np.sum(error) / batch_size\n",
    "        losses.append(cost_fun(X, y, w, b))\n",
    "    return w, b,np.array(losses)"
   ]
  },
  {
   "cell_type": "code",
   "execution_count": 96,
   "metadata": {},
   "outputs": [
    {
     "name": "stdout",
     "output_type": "stream",
     "text": [
      "BGD Accuracy: 0.9824561403508771\n",
      "SGD Accuracy: 0.9736842105263158\n",
      "MBGD Accuracy: 0.9824561403508771\n"
     ]
    }
   ],
   "source": [
    "# Train models\n",
    "X_train, X_test, Y_train, Y_test = train_test_split(X, Y, test_size=0.2, random_state=42)\n",
    "X_train = scaler.fit_transform(X_train)\n",
    "X_test = scaler.transform(X_test)\n",
    "\n",
    "w_bgd, b_bgd, loss_bgd = BGD(X_train, Y_train, 0.01, 1000)\n",
    "w_sgd, b_sgd, loss_sgd = SGD(X_train, Y_train, 0.01, 1000)\n",
    "w_mbgd, b_mbgd, loss_mbgd = MBGD(X_train, Y_train, 0.01, 1000, 16)\n",
    "\n",
    "y_pred_bgd = sigmoid(np.dot(X_test, w_bgd) + b_bgd) >= 0.5\n",
    "y_pred_sgd = sigmoid(np.dot(X_test, w_sgd) + b_sgd) >= 0.5\n",
    "y_pred_mbgd = sigmoid(np.dot(X_test, w_mbgd) + b_mbgd) >= 0.5\n",
    "\n",
    "acc_bgd = accuracy_score(Y_test, y_pred_bgd)\n",
    "acc_sgd = accuracy_score(Y_test, y_pred_sgd)\n",
    "acc_mbgd = accuracy_score(Y_test, y_pred_mbgd)\n",
    "\n",
    "print(\"BGD Accuracy:\", acc_bgd)\n",
    "print(\"SGD Accuracy:\", acc_sgd)\n",
    "print(\"MBGD Accuracy:\", acc_mbgd)\n"
   ]
  },
  {
   "cell_type": "markdown",
   "metadata": {},
   "source": [
    "#### Plot Loss Convergence"
   ]
  },
  {
   "cell_type": "code",
   "execution_count": 97,
   "metadata": {},
   "outputs": [
    {
     "data": {
      "image/png": "[encoded data removed]",
      "text/plain": [
       "<Figure size 1000x500 with 1 Axes>"
      ]
     },
     "metadata": {},
     "output_type": "display_data"
    }
   ],
   "source": [
    "plt.figure(figsize=(10, 5))\n",
    "plt.plot(loss_bgd, label=\"BGD (Logistic)\")\n",
    "plt.plot(loss_sgd, label=\"SGD (Logistic)\")\n",
    "plt.plot(loss_mbgd, label=\"MBGD (Logistic)\")\n",
    "plt.xlabel(\"Iterations\")\n",
    "plt.ylabel(\"Loss\")\n",
    "plt.title(\"Loss Convergence - Logistic Regression\")\n",
    "plt.legend()\n",
    "plt.show()"
   ]
  }
 ],
 "metadata": {
  "kernelspec": {
   "display_name": "Python 3 (ipykernel)",
   "language": "python",
   "name": "python3"
  },
  "language_info": {
   "codemirror_mode": {
    "name": "ipython",
    "version": 3
   },
   "file_extension": ".py",
   "mimetype": "text/x-python",
   "name": "python",
   "nbconvert_exporter": "python",
   "pygments_lexer": "ipython3",
   "version": "3.12.3"
  }
 },
 "nbformat": 4,
 "nbformat_minor": 2
}
