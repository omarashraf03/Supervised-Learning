{
 "cells": [
  {
   "cell_type": "code",
   "execution_count": 4,
   "id": "149edec6",
   "metadata": {},
   "outputs": [
    {
     "name": "stdout",
     "output_type": "stream",
     "text": [
      "['0_george_0.wav', '0_george_1.wav', '0_george_10.wav', '0_george_11.wav', '0_george_12.wav']\n"
     ]
    }
   ],
   "source": [
    "import os\n",
    "\n",
    "data_path = 'free-spoken-digit-dataset/recordings'\n",
    "files = os.listdir(data_path)\n",
    "print(files[:5])  # Show first 5 audio files\n"
   ]
  },
  {
   "cell_type": "code",
   "execution_count": 3,
   "id": "35c5d81f",
   "metadata": {},
   "outputs": [
    {
     "name": "stderr",
     "output_type": "stream",
     "text": [
      "Cloning into 'free-spoken-digit-dataset'...\n",
      "Updating files:  63% (1905/3014)\n",
      "Updating files:  64% (1929/3014)\n",
      "Updating files:  65% (1960/3014)\n",
      "Updating files:  66% (1990/3014)\n",
      "Updating files:  67% (2020/3014)\n",
      "Updating files:  68% (2050/3014)\n",
      "Updating files:  69% (2080/3014)\n",
      "Updating files:  70% (2110/3014)\n",
      "Updating files:  71% (2140/3014)\n",
      "Updating files:  72% (2171/3014)\n",
      "Updating files:  73% (2201/3014)\n",
      "Updating files:  74% (2231/3014)\n",
      "Updating files:  75% (2261/3014)\n",
      "Updating files:  76% (2291/3014)\n",
      "Updating files:  77% (2321/3014)\n",
      "Updating files:  78% (2351/3014)\n",
      "Updating files:  79% (2382/3014)\n",
      "Updating files:  80% (2412/3014)\n",
      "Updating files:  81% (2442/3014)\n",
      "Updating files:  82% (2472/3014)\n",
      "Updating files:  83% (2502/3014)\n",
      "Updating files:  84% (2532/3014)\n",
      "Updating files:  85% (2562/3014)\n",
      "Updating files:  86% (2593/3014)\n",
      "Updating files:  87% (2623/3014)\n",
      "Updating files:  88% (2653/3014)\n",
      "Updating files:  89% (2683/3014)\n",
      "Updating files:  90% (2713/3014)\n",
      "Updating files:  91% (2743/3014)\n",
      "Updating files:  92% (2773/3014)\n",
      "Updating files:  93% (2804/3014)\n",
      "Updating files:  94% (2834/3014)\n",
      "Updating files:  95% (2864/3014)\n",
      "Updating files:  96% (2894/3014)\n",
      "Updating files:  97% (2924/3014)\n",
      "Updating files:  98% (2954/3014)\n",
      "Updating files:  99% (2984/3014)\n",
      "Updating files: 100% (3014/3014)\n",
      "Updating files: 100% (3014/3014), done.\n"
     ]
    }
   ],
   "source": [
    "!git clone https://github.com/Jakobovski/free-spoken-digit-dataset.git\n"
   ]
  },
  {
   "cell_type": "code",
   "execution_count": 5,
   "id": "926d5535",
   "metadata": {},
   "outputs": [
    {
     "name": "stdout",
     "output_type": "stream",
     "text": [
      "✅ Dataset found!\n",
      "Sample files: ['0_george_0.wav', '0_george_1.wav', '0_george_10.wav', '0_george_11.wav', '0_george_12.wav']\n"
     ]
    },
    {
     "name": "stderr",
     "output_type": "stream",
     "text": [
      "fatal: destination path 'free-spoken-digit-dataset' already exists and is not an empty directory.\n"
     ]
    }
   ],
   "source": [
    "# Step 1: Clone (only needed once)\n",
    "!git clone https://github.com/Jakobovski/free-spoken-digit-dataset.git\n",
    "\n",
    "# Step 2: Verify\n",
    "import os\n",
    "data_path = 'free-spoken-digit-dataset/recordings'\n",
    "if os.path.exists(data_path):\n",
    "    print(\"✅ Dataset found!\")\n",
    "    print(\"Sample files:\", os.listdir(data_path)[:5])\n",
    "else:\n",
    "    print(\"❌ Dataset not found. Try re-cloning.\")\n"
   ]
  },
  {
   "cell_type": "code",
   "execution_count": 6,
   "id": "c05e62e1",
   "metadata": {},
   "outputs": [
    {
     "name": "stdout",
     "output_type": "stream",
     "text": [
      "Dataset size: 20.15 MB\n"
     ]
    }
   ],
   "source": [
    "import os\n",
    "\n",
    "def get_folder_size(path):\n",
    "    total_size = 0\n",
    "    for dirpath, dirnames, filenames in os.walk(path):\n",
    "        for file in filenames:\n",
    "            filepath = os.path.join(dirpath, file)\n",
    "            if os.path.isfile(filepath):\n",
    "                total_size += os.path.getsize(filepath)\n",
    "    return total_size\n",
    "\n",
    "data_path = 'free-spoken-digit-dataset/recordings'\n",
    "size_bytes = get_folder_size(data_path)\n",
    "size_mb = size_bytes / (1024 * 1024)\n",
    "\n",
    "print(f\"Dataset size: {size_mb:.2f} MB\")\n"
   ]
  }
 ],
 "metadata": {
  "kernelspec": {
   "display_name": "Python 3",
   "language": "python",
   "name": "python3"
  },
  "language_info": {
   "codemirror_mode": {
    "name": "ipython",
    "version": 3
   },
   "file_extension": ".py",
   "mimetype": "text/x-python",
   "name": "python",
   "nbconvert_exporter": "python",
   "pygments_lexer": "ipython3",
   "version": "3.12.3"
  }
 },
 "nbformat": 4,
 "nbformat_minor": 5
}
