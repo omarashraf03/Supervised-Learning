{
 "cells": [
  {
   "cell_type": "code",
   "execution_count": 8,
   "metadata": {},
   "outputs": [],
   "source": [
    "import os\n",
    "import shutil\n",
    "\n",
    "# Path to your recordings folder\n",
    "records_dir = \"/Users/mac/Desktop/Projects/Supervised Third Year/Task_3/recordings\"\n",
    "george_dir = os.path.join(records_dir, \"george\")\n",
    "jackson_dir = os.path.join(records_dir, \"jackson\")\n",
    "\n",
    "# Create destination folders if they don't exist\n",
    "os.makedirs(george_dir, exist_ok=True)\n",
    "os.makedirs(jackson_dir, exist_ok=True)\n",
    "\n",
    "# Go through each file in the records folder\n",
    "for filename in os.listdir(records_dir):\n",
    "    filepath = os.path.join(records_dir, filename)\n",
    "\n",
    "    # Skip directories\n",
    "    if os.path.isdir(filepath):\n",
    "        continue\n",
    "\n",
    "    # Use only filename to determine where to move the file\n",
    "    if \"george\" in filename.lower():\n",
    "        shutil.move(filepath, os.path.join(george_dir, filename))\n",
    "    elif \"jackson\" in filename.lower():\n",
    "        shutil.move(filepath, os.path.join(jackson_dir, filename))\n"
   ]
  },
  {
   "cell_type": "code",
   "execution_count": null,
   "metadata": {},
   "outputs": [],
   "source": []
  }
 ],
 "metadata": {
  "kernelspec": {
   "display_name": "Python 3 (ipykernel)",
   "language": "python",
   "name": "python3"
  },
  "language_info": {
   "codemirror_mode": {
    "name": "ipython",
    "version": 3
   },
   "file_extension": ".py",
   "mimetype": "text/x-python",
   "name": "python",
   "nbconvert_exporter": "python",
   "pygments_lexer": "ipython3",
   "version": "3.12.4"
  }
 },
 "nbformat": 4,
 "nbformat_minor": 2
}
